{
 "cells": [
  {
   "cell_type": "markdown",
   "metadata": {},
   "source": [
    "# Example\n",
    "## Import necessary libraries"
   ]
  },
  {
   "cell_type": "code",
   "execution_count": 3,
   "metadata": {},
   "outputs": [],
   "source": [
    "import pandas as pd\n",
    "from rmsd_calculation import process_all_natives\n",
    "from correlations import calculate_correlations , create_correlation_matrix\n",
    "from visualizations import plot_correlation_matrix, plot_metrics_vs_cgRMSD\n",
    "from scores_comparisons import concat_files"
   ]
  },
  {
   "cell_type": "markdown",
   "metadata": {},
   "source": [
    "## Define the atom combinations you want to analyze"
   ]
  },
  {
   "cell_type": "code",
   "execution_count": 4,
   "metadata": {},
   "outputs": [],
   "source": [
    "# Your atom list\n",
    "ATOM_COMBINATIONS = [\n",
    "    [\"P\"],\n",
    "    [\"O1'\", \"O2'\", \"O3'\"],\n",
    "    [\"C1'\", \"C2'\", \"C3'\"],\n",
    "    [\"C4'\", \"C5'\"]\n",
    "]"
   ]
  },
  {
   "cell_type": "markdown",
   "metadata": {},
   "source": [
    "## cgRMSD calculations"
   ]
  },
  {
   "cell_type": "code",
   "execution_count": null,
   "metadata": {},
   "outputs": [],
   "source": [
    "# Specify the directories where your data files are located \n",
    "natives_dir = \"/path/to/NATIVE/\"\n",
    "preds_dir = \"/path/to/PREDS/\"\n",
    "scores_dir = \"/path/to/SCORES/\"\n",
    "\n",
    "# Perform cgRMSD calculations for all native structures and their predictions\n",
    "# This function will compute the coarse-grained RMSD (cgRMSD) for each atom combination specified in ATOM_COMBINATIONS\n",
    "process_all_natives(natives_dir, preds_dir, scores_dir, ATOM_COMBINATIONS)"
   ]
  },
  {
   "cell_type": "markdown",
   "metadata": {},
   "source": [
    "## Correlations"
   ]
  },
  {
   "cell_type": "code",
   "execution_count": null,
   "metadata": {},
   "outputs": [],
   "source": [
    "# Set the paths to the files where you will store the correlation results\n",
    "corr_spearman = \"./corr_spearman.csv\" # Spearman correlation results file\n",
    "corr_pearson = \"./corr_pearson.csv\"  # Pearson correlation results file\n",
    "\n",
    "# Compute the Spearman and Pearson correlations for the scores\n",
    "# These correlations will measure the relationship between the cgRMSD and other metrics (e.g., RMSD, TM-score, etc.)\n",
    "calculate_correlations(scores_dir, corr_spearman, method=\"spearman\")\n",
    "calculate_correlations(scores_dir, corr_pearson, method=\"pearson\")"
   ]
  },
  {
   "cell_type": "markdown",
   "metadata": {},
   "source": [
    "## Create correlation matrix"
   ]
  },
  {
   "cell_type": "code",
   "execution_count": null,
   "metadata": {},
   "outputs": [],
   "source": [
    "# Paths to the output files that will contain the correlation matrices\n",
    "mtx_spearman = \"./mtx_spearman.csv\" # Spearman correlation matrix\n",
    "mtx_pearson = \"./mtx_pearson.csv\" # Pearson correlation matrix\n",
    "\n",
    "# Compute the correlation matrices for Spearman and Pearson correlations\n",
    "# This will summarize the correlation coefficients between various metrics across all predictions\n",
    "create_correlation_matrix(corr_spearman, mtx_spearman)\n",
    "create_correlation_matrix(corr_pearson, mtx_pearson)\n",
    "\n",
    "  "
   ]
  },
  {
   "cell_type": "markdown",
   "metadata": {},
   "source": [
    "## Visualize the correlation matrix"
   ]
  },
  {
   "cell_type": "code",
   "execution_count": null,
   "metadata": {},
   "outputs": [],
   "source": [
    "# Define paths for the heatmap plots of the correlation matrices\n",
    "plot_mtx_spearman = \"./plot_mtx_spearman.png\"\n",
    "plot_mtx_pearson = \"./plot_mtx_pearson.png\"\n",
    "\n",
    "# Visualize the correlation matrices using heatmaps\n",
    "# The heatmaps will visually represent the relationships between different metrics (e.g., RMSD, cgRMSD, etc.)\n",
    "plot_correlation_matrix(mtx_spearman, plot_mtx_spearman)\n",
    "plot_correlation_matrix(mtx_pearson, plot_mtx_pearson)"
   ]
  },
  {
   "cell_type": "markdown",
   "metadata": {},
   "source": [
    "## Score comparison"
   ]
  },
  {
   "cell_type": "code",
   "execution_count": null,
   "metadata": {},
   "outputs": [],
   "source": [
    "# Define the output file where all scores will be concatenated\n",
    "all_scores_file = \"./all_scores_file.csv\"\n",
    "\n",
    "# Concatenate the scores for all native structures and their associated predictions\n",
    "# This step combines the various scores (e.g., RMSD, cgRMSD, etc.) from all predictions into a single CSV file\n",
    "concat_files(scores_dir, all_scores_file)"
   ]
  },
  {
   "cell_type": "markdown",
   "metadata": {},
   "source": [
    "## Visualize the score comparison plots"
   ]
  },
  {
   "cell_type": "code",
   "execution_count": null,
   "metadata": {},
   "outputs": [],
   "source": [
    "# Set the output folder where the score comparison plots will be saved\n",
    "output_folder_plots = \"./\" \n",
    "\n",
    "# Visualize the comparison of scores (cgRMSD vs other metrics) across different tools\n",
    "# The plots will show how the different metrics correlate and how tools compare in terms of their performance\n",
    "plot_metrics_vs_cgRMSD(all_scores_file, output_folder_plots)"
   ]
  }
 ],
 "metadata": {
  "kernelspec": {
   "display_name": "Python 3",
   "language": "python",
   "name": "python3"
  },
  "language_info": {
   "codemirror_mode": {
    "name": "ipython",
    "version": 3
   },
   "file_extension": ".py",
   "mimetype": "text/x-python",
   "name": "python",
   "nbconvert_exporter": "python",
   "pygments_lexer": "ipython3",
   "version": "3.9.6"
  }
 },
 "nbformat": 4,
 "nbformat_minor": 2
}
